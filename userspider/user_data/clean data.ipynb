{
 "cells": [
  {
   "cell_type": "code",
   "execution_count": 5,
   "metadata": {
    "collapsed": true
   },
   "outputs": [],
   "source": [
    "import os\n",
    "def write_all_id():\n",
    "    with open(\"./data/all_id_exclude_done.txt\", \"w\") as writefile:\n",
    "        for i in list(all_id):\n",
    "            line = str(i) + \"\\n\"\n",
    "            writefile.write(line)"
   ]
  },
  {
   "cell_type": "code",
   "execution_count": 7,
   "metadata": {
    "collapsed": false
   },
   "outputs": [
    {
     "name": "stdout",
     "output_type": "stream",
     "text": [
      "len for done file 512\n",
      "len for ./data/user_id_list_0.txt 2734\n",
      "len for ./data/user_id_list_1.txt 5016\n",
      "len for ./data/user_id_list_2.txt 2734\n",
      "len for ./data/user_id_list_3.txt 4996\n",
      "len for ./data/user_id_list_4.txt 977\n",
      "get all id 1 10468\n",
      "get all id 2 10468\n"
     ]
    }
   ],
   "source": [
    "all_id = []\n",
    "\n",
    "done_id = set()\n",
    "with open(\"./data/done/untitled.txt\", \"r\") as file:\n",
    "    file = [i.split(\" \")[0] for i in file.readlines()]\n",
    "    done_id = set(file)\n",
    "    print(\"len for done file\", len(done_id))\n",
    "\n",
    "check_file_path = [\n",
    "    \"./data/user_id_list_0.txt\",\n",
    "    \"./data/user_id_list_1.txt\",\n",
    "    \"./data/user_id_list_2.txt\",\n",
    "    \"./data/user_id_list_3.txt\",\n",
    "    \"./data/user_id_list_4.txt\",\n",
    "]\n",
    "for check_file in check_file_path:\n",
    "    with open(check_file, \"r\") as file:\n",
    "        file = [i.split(\" \")[0] for i in file.readlines()]\n",
    "        print(\"len for\", check_file, len(file))\n",
    "        # file = set(file)\n",
    "        # file = file.difference(done_id)\n",
    "        # file = file.difference(set(all_id))\n",
    "        all_id += file\n",
    "\n",
    "# clean_tonavy()\n",
    "# clean_sup()\n",
    "#clean_fans_id_name()\n",
    "all_id = set(all_id)\n",
    "print(\"get all id 1\", len(all_id))\n",
    "all_id = all_id.difference(done_id)\n",
    "print(\"get all id 2\", len(all_id))\n",
    "write_all_id()"
   ]
  },
  {
   "cell_type": "code",
   "execution_count": 8,
   "metadata": {
    "collapsed": true
   },
   "outputs": [],
   "source": [
    "def clean_tonavy():\n",
    "    with open(\"./data/tonavy.txt\", \"r\") as file:\n",
    "        f = file.readlines()\n",
    "        f = [i.split(\",\")[0] for i in f]\n",
    "        f = set(f)\n",
    "        print(len(f))\n",
    "        print(len(all_id))\n",
    "        f = f.difference(all_id)\n",
    "        with open(\"./data/user_id_list_0.txt\", \"w\") as writefile:\n",
    "            for i in list(f):\n",
    "                line = str(i) + \"\\n\"\n",
    "                writefile.write(line)"
   ]
  },
  {
   "cell_type": "code",
   "execution_count": 9,
   "metadata": {
    "collapsed": true
   },
   "outputs": [],
   "source": [
    "def clean_sup():\n",
    "    with open(\"./data/sup.txt\", \"r\") as file:\n",
    "        f = file.readlines()\n",
    "        f = [i.split(\"<\")[0] for i in f]\n",
    "        f = set(f)\n",
    "        print(len(f))\n",
    "        print(len(all_id))\n",
    "        f = f.difference(all_id)\n",
    "        with open(\"./data/user_id_list_2.txt\", \"w\") as writefile:\n",
    "            for i in list(f):\n",
    "                line = str(i) + \"\\n\"\n",
    "                writefile.write(line)"
   ]
  },
  {
   "cell_type": "code",
   "execution_count": 6,
   "metadata": {
    "collapsed": true
   },
   "outputs": [],
   "source": []
  },
  {
   "cell_type": "code",
   "execution_count": 4,
   "metadata": {
    "collapsed": true
   },
   "outputs": [],
   "source": [
    "def clean_fans_id_name():\n",
    "    with open(\"./data/fans_id_name.txt\", \"r\") as file:\n",
    "        f = file.readlines()\n",
    "        f = [i.split(\",\")[0] for i in f]\n",
    "        f = set(f)\n",
    "        print(len(f))\n",
    "        print(len(all_id))\n",
    "        f = f.difference(all_id)\n",
    "        with open(\"./data/user_id_list_3.txt\", \"w\") as writefile:\n",
    "            for i in list(f):\n",
    "                line = str(i) + \"\\n\"\n",
    "                writefile.write(line)"
   ]
  },
  {
   "cell_type": "code",
   "execution_count": 8,
   "metadata": {
    "collapsed": false
   },
   "outputs": [
    {
     "name": "stdout",
     "output_type": "stream",
     "text": [
      "977\n",
      "10468\n"
     ]
    }
   ],
   "source": [
    "def clean_fans_fansNum():\n",
    "    filename = \"./data/fans.fansNum.2017-09-24_16-41-22.txt\"\n",
    "    with open(filename, \"r\") as file:\n",
    "        f = file.readlines()\n",
    "        f = [i.split(\",\")[0] for i in f]\n",
    "        f = set(f)\n",
    "        print(len(f))\n",
    "        print(len(all_id))\n",
    "        f = f.difference(all_id)\n",
    "        with open(\"./data/user_id_list_4.txt\", \"w\") as writefile:\n",
    "            for i in list(f):\n",
    "                line = str(i) + \"\\n\"\n",
    "                writefile.write(line)\n",
    "clean_fans_fansNum()"
   ]
  },
  {
   "cell_type": "code",
   "execution_count": null,
   "metadata": {
    "collapsed": true
   },
   "outputs": [],
   "source": []
  }
 ],
 "metadata": {
  "kernelspec": {
   "display_name": "Python 3",
   "language": "python",
   "name": "python3"
  },
  "language_info": {
   "codemirror_mode": {
    "name": "ipython",
    "version": 3
   },
   "file_extension": ".py",
   "mimetype": "text/x-python",
   "name": "python",
   "nbconvert_exporter": "python",
   "pygments_lexer": "ipython3",
   "version": "3.6.0"
  }
 },
 "nbformat": 4,
 "nbformat_minor": 2
}
