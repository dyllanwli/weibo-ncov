{
 "cells": [
  {
   "cell_type": "code",
   "execution_count": 3,
   "metadata": {
    "collapsed": true
   },
   "outputs": [],
   "source": [
    "import os\n",
    "import codecs\n",
    "all_id = set()\n",
    "done_id = set()\n",
    "all_fan_id = []\n",
    "\n",
    "def write_all_id():\n",
    "    with open(\"./data/all_id_exclude_done.txt\", \"w\") as file:\n",
    "        for i in list(all_id):\n",
    "            line = str(i).strip(\"\\n\") + \"\\n\"\n",
    "            file.write(line)\n",
    "            \n",
    "def read_all_id():\n",
    "    with open(\"./data/all_id_exclude_done.txt\", \"r\") as file:\n",
    "        all_id = set(file.readlines())\n",
    "        print(\"len for all_id file\", len(all_id))\n",
    "        return all_id\n",
    "\n",
    "def read_done_id():\n",
    "    with open(\"./data/done/untitled.txt\", \"r\") as file:\n",
    "        file = [i.split(\" \")[0] for i in file.readlines()]\n",
    "        done_id = set(file)\n",
    "        print(\"len for done file\", len(done_id))\n",
    "        return done_id\n",
    "    \n",
    "    \n",
    "def clean_each_fans(filename):\n",
    "    with codecs.open(\"./data/fans_info/\" + filename, \"r\", encoding=\"utf-8\") as file:\n",
    "        file = file.readlines()\n",
    "        for line in file:\n",
    "            lines = [i for i in line.split(\" \") if str(i).isdigit()]\n",
    "            lines = [i for i in lines if len(lines) > 8]\n",
    "            for l in line.split(\" \"):\n",
    "                if str(l).isdigit() and len(l) > 8:\n",
    "                    # print(l)\n",
    "                    all_fan_id.append(l)\n",
    "\n",
    "def clean_each_discuss(filename):\n",
    "    with codecs.open(\"./data/dicuss/\" + filename, \"r\", encoding=\"utf-8\") as file:\n",
    "        file = file.readlines()\n",
    "        for line in file:\n",
    "            lines = [i for i in line.split(\" \") if str(i).isdigit()]\n",
    "            lines = [i for i in lines if len(lines) > 8]\n",
    "            for l in line.split(\" \"):\n",
    "                if str(l).isdigit() and len(l) > 8:\n",
    "                    # print(l)\n",
    "                    all_fan_id.append(l)                    \n",
    "\n",
    "def clean_dicuss_info():\n",
    "    for filename in os.listdir(\"./data/dicuss\"):\n",
    "        if filename.startswith(\"discuss\"):\n",
    "            print(\"dealing with\", filename)\n",
    "            clean_each_discuss(filename)\n",
    "        \n",
    "def clean_fans_info():\n",
    "    for filename in os.listdir(\"./data/fans_info\"):\n",
    "        if filename.startswith(\"fans\"):\n",
    "            print(\"dealing with\", filename)\n",
    "            clean_each_fans(filename)"
   ]
  },
  {
   "cell_type": "code",
   "execution_count": 4,
   "metadata": {
    "collapsed": false
   },
   "outputs": [
    {
     "name": "stdout",
     "output_type": "stream",
     "text": [
      "len for all_id file 327111\n",
      "len for done file 512\n",
      "dealing with fans_information6.txt\n",
      "dealing with fans_information1.txt\n",
      "dealing with fans_information2.txt\n",
      "dealing with discuss_information3.txt\n",
      "dealing with discuss_information5.txt\n",
      "dealing with discuss_information4.txt\n",
      "dealing with discuss_information6.txt\n",
      "len for all fan 526521\n",
      "len for all fan set 233290\n",
      "all_id 327111 + all_fan 233199\n",
      "len for all id 560310\n"
     ]
    }
   ],
   "source": [
    "all_id = read_all_id()\n",
    "done_id = read_done_id()\n",
    "clean_fans_info()\n",
    "clean_dicuss_info()\n",
    "print(\"len for all fan\", len(all_fan_id))\n",
    "all_fan_id = set(all_fan_id)\n",
    "print(\"len for all fan set\", len(all_fan_id))\n",
    "all_fan_id = all_fan_id.difference(all_id)\n",
    "all_fan_id = all_fan_id.difference(done_id)\n",
    "print(\"all_id {} + all_fan {}\".format(len(all_id),len(all_fan_id)))\n",
    "all_id = set(list(all_id) + list(all_fan_id))\n",
    "print(\"len for all id\", len(all_id))\n",
    "write_all_id()"
   ]
  },
  {
   "cell_type": "code",
   "execution_count": null,
   "metadata": {
    "collapsed": true
   },
   "outputs": [],
   "source": []
  }
 ],
 "metadata": {
  "kernelspec": {
   "display_name": "Python 3",
   "language": "python",
   "name": "python3"
  },
  "language_info": {
   "codemirror_mode": {
    "name": "ipython",
    "version": 3
   },
   "file_extension": ".py",
   "mimetype": "text/x-python",
   "name": "python",
   "nbconvert_exporter": "python",
   "pygments_lexer": "ipython3",
   "version": "3.6.0"
  }
 },
 "nbformat": 4,
 "nbformat_minor": 2
}
