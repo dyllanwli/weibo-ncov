{
 "cells": [
  {
   "cell_type": "code",
   "execution_count": 2,
   "metadata": {
    "collapsed": false
   },
   "outputs": [
    {
     "name": "stdout",
     "output_type": "stream",
     "text": [
      "len for all_id file 327111\n",
      "len for done file 512\n",
      "dealing with fans.2017-09-24_14-05-43.txt\n",
      "dealing with fans.2017-09-24_13-47-13.txt\n",
      "dealing with fans.2017-09-24_14-56-27.txt\n",
      "dealing with fans.2017-09-24_14-52-41.txt\n",
      "dealing with fans.2017-09-24_12-22-47.txt\n",
      "dealing with fans.2017-09-24_14-21-49.txt\n",
      "dealing with fans.2017-09-24_14-29-17.txt\n",
      "dealing with fans.p.2017-09-24_20-16-11.txt\n",
      "dealing with fans.p.2017-09-24_21-49-11.txt\n",
      "dealing with fans.p.2017-09-25_23-58-28.txt\n",
      "dealing with fans.p.2017-09-24_21-07-42.txt\n",
      "dealing with fans.p.2017-09-24_22-51-26.txt\n",
      "dealing with fans.p.2017-09-26_07-33-29.txt\n",
      "dealing with fans.p.2017-09-25_06-37-18.txt\n",
      "dealing with fans.p.2017-09-26_00-10-53.txt\n",
      "dealing with fans.p.2017-09-25_00-58-13.txt\n",
      "dealing with fans.order.2017-09-24_16-01-20.txt\n",
      "dealing with fans.p.2017-09-25_09-37-40.txt\n",
      "dealing with fans.p.2017-09-25_07-12-22.txt\n",
      "dealing with fans.p.2017-09-24_22-51-06.txt\n",
      "dealing with fans.p.2017-09-24_23-09-34.txt\n",
      "dealing with fans.order.4.2017-09-24_17-01-30.txt\n",
      "dealing with fans.p.2017-09-24_23-52-40.txt\n",
      "dealing with fans.p.2017-09-24_22-13-51.txt\n",
      "dealing with fans.p.2017-09-25_08-26-29.txt\n",
      "len for all fan 715751\n",
      "len for all fan 235695\n",
      "len for all id 562806\n",
      "write all_id 562806\n"
     ]
    }
   ],
   "source": [
    "import os\n",
    "\n",
    "all_id = set()\n",
    "done_id = set()\n",
    "all_fan_id = []\n",
    "\n",
    "def write_all_id():\n",
    "    with open(\"./data/all_id_exclude_done.txt\", \"w\") as file:\n",
    "        print(\"write all_id\", len(set(all_id)))\n",
    "        for i in list(all_id):\n",
    "            line = str(i).strip(\"\\n\") + \"\\n\"\n",
    "            file.write(line)\n",
    "            \n",
    "def read_all_id():\n",
    "    with open(\"./data/all_id_exclude_done.txt\", \"r\") as file:\n",
    "        all_id = set(file.readlines())\n",
    "        print(\"len for all_id file\", len(all_id))\n",
    "        return all_id\n",
    "\n",
    "def read_done_id():\n",
    "    with open(\"./data/done/untitled.txt\", \"r\") as file:\n",
    "        file = [i.split(\" \")[0] for i in file.readlines()]\n",
    "        done_id = set(file)\n",
    "        print(\"len for done file\", len(done_id))\n",
    "        return done_id\n",
    "    \n",
    "def clean_each_fan_p_file(filename):\n",
    "    with open(\"./data/fans_p/\" + filename, \"r\") as file:\n",
    "        for i in file.readlines():\n",
    "            if len(i) > 10:\n",
    "                if i[:5].isdigit():\n",
    "                    line = i.split(\",\")[0]\n",
    "                    all_fan_id.append(line)\n",
    "                    \n",
    "def clean_fan_order_file(filename):\n",
    "    with open(\"./data/fans_p/\" + filename, \"r\") as file:\n",
    "        for i in file.readlines():\n",
    "            line = i.split(\",\")[0]\n",
    "            all_fan_id.append(line)\n",
    "\n",
    "            \n",
    "def clean_each_fans(filename):\n",
    "    with open(\"./data/fans/\" + filename, \"r\") as file:\n",
    "        for i in file.readlines():\n",
    "            line = i.split(\",\")[0]\n",
    "            all_fan_id.append(line)\n",
    "            \n",
    "def clean_fans():\n",
    "    for filename in os.listdir(\"./data/fans\"):\n",
    "        if filename.startswith(\"fans\"):\n",
    "            print(\"dealing with\", filename)\n",
    "            clean_each_fans(filename)\n",
    "            \n",
    "def clean_fans_p():\n",
    "    for filename in os.listdir(\"./data/fans_p\"):\n",
    "        if filename.startswith(\"fans.p\"):\n",
    "            print(\"dealing with\", filename)\n",
    "            clean_each_fan_p_file(filename)\n",
    "        if filename.startswith(\"fans.order\"):\n",
    "            print(\"dealing with\", filename)\n",
    "            clean_fan_order_file(filename)\n",
    "     \n",
    "    \n",
    "all_id = read_all_id()\n",
    "done_id = read_done_id()\n",
    "clean_fans()\n",
    "clean_fans_p()\n",
    "print(\"len for all fan\", len(all_fan_id))\n",
    "all_fan_id = set(all_fan_id)\n",
    "all_fan_id = all_fan_id.difference(all_id)\n",
    "all_fan_id = all_fan_id.difference(done_id)\n",
    "print(\"len for all fan\", len(all_fan_id))\n",
    "all_id = set(list(all_id) + list(all_fan_id))\n",
    "all_id = set(all_id)\n",
    "print(\"len for all id\", len(all_id))\n",
    "write_all_id()"
   ]
  },
  {
   "cell_type": "code",
   "execution_count": null,
   "metadata": {
    "collapsed": false
   },
   "outputs": [],
   "source": []
  },
  {
   "cell_type": "code",
   "execution_count": null,
   "metadata": {
    "collapsed": true
   },
   "outputs": [],
   "source": []
  }
 ],
 "metadata": {
  "kernelspec": {
   "display_name": "Python 3",
   "language": "python",
   "name": "python3"
  },
  "language_info": {
   "codemirror_mode": {
    "name": "ipython",
    "version": 3
   },
   "file_extension": ".py",
   "mimetype": "text/x-python",
   "name": "python",
   "nbconvert_exporter": "python",
   "pygments_lexer": "ipython3",
   "version": "3.6.0"
  }
 },
 "nbformat": 4,
 "nbformat_minor": 2
}
